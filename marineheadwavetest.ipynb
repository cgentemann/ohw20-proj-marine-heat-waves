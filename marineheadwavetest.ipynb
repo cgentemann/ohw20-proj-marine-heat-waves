{
 "cells": [
  {
   "cell_type": "code",
   "execution_count": null,
   "metadata": {},
   "outputs": [],
   "source": [
    "import marineHeatWaves as mhw"
   ]
  },
  {
   "cell_type": "code",
   "execution_count": null,
   "metadata": {},
   "outputs": [],
   "source": [
    "# Load required modules\n",
    "import numpy as np\n",
    "from datetime import date\n",
    "from matplotlib import pyplot as plt\n",
    "%matplotlib inline"
   ]
  },
  {
   "cell_type": "code",
   "execution_count": null,
   "metadata": {},
   "outputs": [],
   "source": [
    "# Generate time vector using datetime format (January 1 of year 1 is day 1)\n",
    "t = np.arange(date(1982,1,1).toordinal(),date(2014,12,31).toordinal()+1)\n",
    "dates = [date.fromordinal(tt.astype(int)) for tt in t]\n",
    "# Generate synthetic temperature time series\n",
    "sst = np.zeros(len(t))\n",
    "sst[0] = 0 # Initial condition\n",
    "a = 0.85 # autoregressive parameter\n",
    "for i in range(1,len(t)):\n",
    "    sst[i] = a*sst[i-1] + 0.75*np.random.randn() + 0.5*np.cos(t[i]*2*np.pi/365.25)\n",
    "sst = sst - sst.min() + 5."
   ]
  },
  {
   "cell_type": "code",
   "execution_count": null,
   "metadata": {},
   "outputs": [],
   "source": [
    "%%time\n",
    "mhws, clim = mhw.detect(t, sst)"
   ]
  },
  {
   "cell_type": "code",
   "execution_count": null,
   "metadata": {},
   "outputs": [],
   "source": [
    "mhws['n_events']"
   ]
  },
  {
   "cell_type": "code",
   "execution_count": null,
   "metadata": {},
   "outputs": [],
   "source": [
    "ev = np.argmax(mhws['intensity_max']) # Find largest event\n",
    "print ('Maximum intensity:', mhws['intensity_max'][ev], 'deg. C')\n",
    "print ('Average intensity:', mhws['intensity_mean'][ev], 'deg. C')\n",
    "print ('Cumulative intensity:', mhws['intensity_cumulative'][ev], 'deg. C-days')\n",
    "print ('Duration:', mhws['duration'][ev], 'days')\n",
    "print ('Start date:', mhws['date_start'][ev].strftime(\"%d %B %Y\"))\n",
    "print ('End date:', mhws['date_end'][ev].strftime(\"%d %B %Y\"))"
   ]
  },
  {
   "cell_type": "code",
   "execution_count": null,
   "metadata": {},
   "outputs": [],
   "source": [
    "np.where(t==mhws['time_start'][ev])[0][0]"
   ]
  },
  {
   "cell_type": "code",
   "execution_count": null,
   "metadata": {},
   "outputs": [],
   "source": [
    "plt.figure(figsize=(14,10))\n",
    "plt.subplot(2,1,1)\n",
    "# Plot SST, seasonal cycle, and threshold\n",
    "plt.plot(dates, sst, 'k-')\n",
    "plt.plot(dates, clim['thresh'], 'g-')\n",
    "plt.plot(dates, clim['seas'], 'b-')\n",
    "plt.title('SST (black), seasonal climatology (blue), \\\n",
    "          threshold (green), detected MHW events (shading)')\n",
    "plt.xlim(dates[0], dates[-1])\n",
    "plt.ylim(sst.min()-0.5, sst.max()+0.5)\n",
    "plt.ylabel(r'SST [$^\\circ$C]')\n",
    "plt.subplot(2,1,2)\n",
    "# Find indices for all ten MHWs before and after event of interest and shade accordingly\n",
    "for ev0 in np.arange(ev-10, ev+11, 1):\n",
    "    t1 = np.where(t==mhws['time_start'][ev0])[0][0]\n",
    "    t2 = np.where(t==mhws['time_end'][ev0])[0][0]\n",
    "    plt.fill_between(dates[t1:t2+1], sst[t1:t2+1], clim['thresh'][t1:t2+1], \\\n",
    "                     color=(1,0.6,0.5))\n",
    "# Find indices for MHW of interest and shade accordingly\n",
    "t1 = np.where(t==mhws['time_start'][ev])[0][0]\n",
    "t2 = np.where(t==mhws['time_end'][ev])[0][0]\n",
    "plt.fill_between(dates[t1:t2+1], sst[t1:t2+1], clim['thresh'][t1:t2+1], \\\n",
    "                 color='r')\n",
    "# Plot SST, seasonal cycle, threshold, shade MHWs with main event in red\n",
    "plt.plot(dates, sst, 'k-', linewidth=2)\n",
    "plt.plot(dates, clim['thresh'], 'g-', linewidth=2)\n",
    "plt.plot(dates, clim['seas'], 'b-', linewidth=2)\n",
    "plt.title('SST (black), seasonal climatology (blue), \\\n",
    "          threshold (green), detected MHW events (shading)')\n",
    "plt.xlim(date.fromordinal(mhws['time_start'][ev]-150), date.fromordinal(mhws['time_end'][ev]+150))\n",
    "plt.ylim(clim['seas'].min() - 1, clim['seas'].max() + mhws['intensity_max'][ev] + 0.5)\n",
    "plt.ylabel(r'SST [$^\\circ$C]')"
   ]
  },
  {
   "cell_type": "code",
   "execution_count": null,
   "metadata": {},
   "outputs": [],
   "source": [
    "import xarray as xr\n",
    "\n",
    "\n",
    "vfunc = np.vectorize(lambda x:np.datetime64(x))\n",
    "\n",
    "temp = xr.DataArray(sst,dims=['TIME'],coords={'TIME':vfunc(dates)})\n",
    "\n",
    "def rle(inarray,minlength):\n",
    "        \"\"\" run length encoding. Partial credit to R rle function. \n",
    "            Multi datatype arrays catered for including non Numpy\n",
    "            returns: tuple (runlengths, startpositions, values) \"\"\"\n",
    "        ia = np.asarray(inarray)                # force numpy\n",
    "        n = len(ia)\n",
    "        if n == 0: \n",
    "            return (None, None, None)\n",
    "        else:\n",
    "            y = np.array(ia[1:] != ia[:-1])     # pairwise unequal (string safe)\n",
    "            i = np.append(np.where(y), n - 1)   # must include last element posi\n",
    "            z = np.diff(np.append(-1, i))       # run lengths\n",
    "            p = np.cumsum(np.append(0, z))[:-1] # positions\n",
    "            z =z[ia[i]]\n",
    "            p =p[ia[i]]\n",
    "            mask =z>=minlength\n",
    "            z = z[mask]\n",
    "            p =p[mask]\n",
    "            return(z, p)\n",
    "\n",
    "# calculate the clim\n",
    "def ts2clm(ts,percentile=90):\n",
    "    ts.coords['year']=temp.TIME.dt.year\n",
    "    ts.coords['dayofyear']=temp.TIME.dt.dayofyear\n",
    "    t1 =ts.set_index(TIME=['dayofyear','year']).unstack().pad(dayofyear=31, mode='wrap').rolling(dayofyear=11,min_periods=1,center=True).construct(\"window_dim\")\n",
    "    seas =t1.reduce(np.nanmean,dim=('year','window_dim')).rolling(dayofyear=31,center=True).mean()[31:-31]\n",
    "    thresh = t1.reduce(np.nanpercentile,dim=('year','window_dim'), q=percentile).rolling(dayofyear=31,center=True).mean()[31:-31]\n",
    "    ds = xr.Dataset({'seas':seas,'thresh':thresh})\n",
    "    return ds\n",
    "\n",
    "\n",
    "# return the number of heat waves\n",
    "\n",
    "def detect(ts,clim,minDuration=5):\n",
    "    exceed_bool = (ts.groupby('TIME.dayofyear')-clim.thresh)>0\n",
    "    runs, index =rle(exceed_bool,minDuration)\n",
    "    return len(index)\n",
    "    \n",
    "clim =ts2clm(temp)\n",
    "detect(temp,clim)\n",
    "\n",
    "#\n",
    "#\n",
    "\n",
    "# exceed_bool[exceed_bool<=0] = False\n",
    "# exceed_bool[exceed_bool>0] = True\n",
    "#     # Fix issue where missing temp vaues (nan) are counted as True\n",
    "# exceed_bool[np.isnan(exceed_bool)] = False"
   ]
  }
 ],
 "metadata": {
  "kernelspec": {
   "display_name": "Python 3",
   "language": "python",
   "name": "python3"
  },
  "language_info": {
   "codemirror_mode": {
    "name": "ipython",
    "version": 3
   },
   "file_extension": ".py",
   "mimetype": "text/x-python",
   "name": "python",
   "nbconvert_exporter": "python",
   "pygments_lexer": "ipython3",
   "version": "3.8.5"
  }
 },
 "nbformat": 4,
 "nbformat_minor": 4
}
