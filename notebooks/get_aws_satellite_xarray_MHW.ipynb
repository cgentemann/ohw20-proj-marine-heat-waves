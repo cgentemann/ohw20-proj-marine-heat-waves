{
 "cells": [
  {
   "cell_type": "markdown",
   "metadata": {},
   "source": [
    "## Satelite data retrieval for MHW analysis\n",
    "Script to get SST data from AWS \n",
    "Script largely copied from `Access_cloud_SST_data_examples.ipynb`\n",
    "\n",
    "Will extract three points (First), hopefully some regions (next)"
   ]
  },
  {
   "cell_type": "markdown",
   "metadata": {},
   "source": [
    "### 1. Import libraries:"
   ]
  },
  {
   "cell_type": "code",
   "execution_count": 2,
   "metadata": {},
   "outputs": [],
   "source": [
    "# filter some warning messages\n",
    "import warnings \n",
    "warnings.filterwarnings(\"ignore\") \n",
    "\n",
    "#libraries\n",
    "import datetime as dt\n",
    "import xarray as xr\n",
    "import fsspec\n",
    "import s3fs\n",
    "from matplotlib import pyplot as plt\n",
    "import numpy as np\n",
    "import pandas as pd\n",
    "# make datasets display nicely\n",
    "xr.set_options(display_style=\"html\")  \n",
    "\n",
    "#magic fncts #put static images of your plot embedded in the notebook\n",
    "%matplotlib inline  \n",
    "plt.rcParams['figure.figsize'] = 12, 6\n",
    "%config InlineBackend.figure_format = 'retina' "
   ]
  },
  {
   "cell_type": "markdown",
   "metadata": {},
   "source": [
    "### 2. Get Zarr SST from AWS"
   ]
  },
  {
   "cell_type": "code",
   "execution_count": null,
   "metadata": {},
   "outputs": [],
   "source": [
    "%%time \n",
    "\n",
    "file_location = 's3://mur-sst/zarr' # from amazon cloud\n",
    "\n",
    "ikey = fsspec.get_mapper(file_location, anon=True)\n",
    "\n",
    "ds_sst = xr.open_zarr(ikey,consolidated=True)\n",
    "\n",
    "ds_sst"
   ]
  },
  {
   "cell_type": "markdown",
   "metadata": {},
   "source": [
    "### 3. Get data from a couple of (lat/long) point: \n",
    "\n",
    "From above - data are available from 1 June 2002 to 20 Jan 2020.\n",
    "\n",
    "Get the whole data set at three POINTS:"
   ]
  },
  {
   "cell_type": "code",
   "execution_count": null,
   "metadata": {},
   "outputs": [],
   "source": [
    "%%time\n",
    "\n",
    "sst_timeseries_pt_CA = ds_sst['analysed_sst'].sel(time = slice('2002-06-01','2020-01-20'),\n",
    "                                            lat  = 38,\n",
    "                                            lon  = -123.2\n",
    "                                           ).load()\n",
    "\n",
    "sst_timeseries_pt_CA.plot()"
   ]
  },
  {
   "cell_type": "code",
   "execution_count": null,
   "metadata": {},
   "outputs": [],
   "source": [
    "%%time\n",
    "\n",
    "sst_timeseries_pt_CL = ds_sst['analysed_sst'].sel(time = slice('2002-06-01','2020-01-20'),\n",
    "                                            lat  = -30.1,\n",
    "                                            lon  = -71.6\n",
    "                                           ).load()\n",
    "\n",
    "sst_timeseries_pt_CL"
   ]
  },
  {
   "cell_type": "code",
   "execution_count": null,
   "metadata": {},
   "outputs": [],
   "source": [
    "%%time\n",
    "\n",
    "sst_timeseries_pt_AU = ds_sst['analysed_sst'].sel(time = slice('2002-06-01','2020-01-20'),\n",
    "                                            lat  = -31.7,\n",
    "                                            lon  = 114.5\n",
    "                                           ).load()\n",
    "\n",
    "sst_timeseries_pt_AU.plot()"
   ]
  },
  {
   "cell_type": "code",
   "execution_count": null,
   "metadata": {},
   "outputs": [],
   "source": [
    "sst_timeseries_pt_AU.to_netcdf()"
   ]
  },
  {
   "cell_type": "markdown",
   "metadata": {},
   "source": [
    "### 4. A spatial area instead of a time series:\n",
    "\n",
    "Get 1 degree around the data points above:\n",
    "\n",
    "eek.. these are just one point in time.\n"
   ]
  },
  {
   "cell_type": "code",
   "execution_count": null,
   "metadata": {},
   "outputs": [],
   "source": [
    "%%time\n",
    "\n",
    "subset_AUt1 = ds_sst['analysed_sst'].sel(time='2019-06-01',lat=slice(-31.7-.5,-31.7+.5),lon=slice(114.5-.5,114.5+.5))\n",
    "\n",
    "subset_AUt1.plot(vmin=293,vmax=296,cmap='inferno')"
   ]
  },
  {
   "cell_type": "code",
   "execution_count": null,
   "metadata": {},
   "outputs": [],
   "source": [
    "#subset_AU = ds_sst['analysed_sst'].sel(time='2019-06-01',lat=slice(-31.7-.5,-31.7+.5),lon=slice(114.5-.5,114.5+.5))\n",
    "# subset_AU = ds_sst['analysed_sst'].sel(lat=slice(-31.7-.5,-31.7+.5),lon=slice(114.5-.5,114.5+.5))\n",
    "\n",
    "# subset_AU"
   ]
  },
  {
   "cell_type": "markdown",
   "metadata": {},
   "source": [
    "Or better 5 degrees around?"
   ]
  },
  {
   "cell_type": "code",
   "execution_count": null,
   "metadata": {},
   "outputs": [],
   "source": [
    "%%time\n",
    "\n",
    "subset_AU = ds_sst['analysed_sst'].sel(lat=slice(-31.7-2.5,-31.7+2.5),lon=slice(114.5-2.5,114.5+2.5))\n",
    "subset_AU"
   ]
  },
  {
   "cell_type": "code",
   "execution_count": null,
   "metadata": {},
   "outputs": [],
   "source": [
    "sst_region_CL = ds_sst['analysed_sst'].sel(lat=slice(-30.1-2.5,-30.1+2.5),lon=slice(-71.6-2.5,-71.6+2.5))\n",
    "sst_region_AU = ds_sst['analysed_sst'].sel(lat=slice(-31.7-2.5,-31.7+2.5),lon=slice(114.5-2.5,114.5+2.5))\n",
    "sst_region_CA = ds_sst['analysed_sst'].sel(lat=slice(38.1-2.5,38.1+2.5),lon=slice(-123.2-2.5,-123.2+2.5))\n"
   ]
  },
  {
   "cell_type": "code",
   "execution_count": null,
   "metadata": {},
   "outputs": [],
   "source": [
    "sst_region_CL.to_netcdf('./sst_region_CL.nc')\n",
    "sst_region_AU.to_netcdf('./sst_region_AU.nc')\n",
    "sst_region_CA.to_netcdf('./sst_region_CA.nc')"
   ]
  },
  {
   "cell_type": "code",
   "execution_count": null,
   "metadata": {},
   "outputs": [],
   "source": [
    "# %%time\n",
    "\n",
    "# # for all times!\n",
    "# subset_CL = ds_sst['analysed_sst'].sel(lat=slice(-30.1-2.5,-30.1+2.5),lon=slice(-71.6-2.5,-71.6+2.5))\n",
    "# subset_CL.plot(vmin=288,vmax=296,cmap='inferno')"
   ]
  },
  {
   "cell_type": "code",
   "execution_count": null,
   "metadata": {},
   "outputs": [],
   "source": [
    "sst_timeseries_pt_AU.to_netcdf('./sst_example.nc')"
   ]
  },
  {
   "cell_type": "code",
   "execution_count": null,
   "metadata": {},
   "outputs": [],
   "source": []
  }
 ],
 "metadata": {
  "kernelspec": {
   "display_name": "Python 3",
   "language": "python",
   "name": "python3"
  },
  "language_info": {
   "codemirror_mode": {
    "name": "ipython",
    "version": 3
   },
   "file_extension": ".py",
   "mimetype": "text/x-python",
   "name": "python",
   "nbconvert_exporter": "python",
   "pygments_lexer": "ipython3",
   "version": "3.7.2"
  }
 },
 "nbformat": 4,
 "nbformat_minor": 4
}
